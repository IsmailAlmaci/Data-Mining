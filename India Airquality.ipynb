{
 "cells": [
  {
   "cell_type": "code",
   "execution_count": null,
   "metadata": {},
   "outputs": [],
   "source": [
    "import findspark\n",
    "import folium\n",
    "\n",
    "findspark.init()\n",
    "\n",
    "from pyspark import sql, SparkConf, SparkContext\n",
    "\n",
    "coordinates = (20.593684, 78.96288)\n",
    "conf = SparkConf().setAppName(\"Read_CSV\")\n",
    "sc = SparkContext(conf=conf)\n",
    "sqlContext = sql.SQLContext(sc)\n",
    "m = folium.Map(location=coordinates, zoom_start=4)\n",
    "\n",
    "dfCities = sqlContext.read.csv(\"Steden.csv\", header=True)\n",
    "dfPollution = sqlContext.read.csv(\"Luchtvervuiling.csv\", header=True)"
   ]
  },
  {
   "cell_type": "code",
   "execution_count": null,
   "metadata": {},
   "outputs": [],
   "source": [
    "from folium.plugins import MarkerCluster\n",
    "from ipywidgets import interact\n",
    "\n",
    "schemes = [\"so2\", \"no2\"]\n",
    "dfCities = dfCities.select(\"lat\", \"lng\", \"city\")\n",
    "dfPollution = dfPollution.select(\"location\", \"so2\", \"no2\")\n",
    "c = '#3186cc'\n",
    "joinDF = dfPollution.join(dfCities, dfPollution.location == dfCities.city, how='right')\n",
    "joinDF = joinDF.filter(\"no2 != ''\").filter(\"lat != ''\").filter(\"lng != ''\").dropDuplicates(['city']).collect()\n",
    "\n",
    "@interact(scheme=schemes)\n",
    "def get_pollution(scheme):\n",
    "    index = 0\n",
    "    for line in joinDF:\n",
    "        if scheme == 'so2':\n",
    "            pollution = joinDF[index][1]\n",
    "        else:\n",
    "            pollution = joinDF[index][2]\n",
    "        hasData = (pollution != 'NA') and (pollution is not None)\n",
    "        if hasData and (float(pollution) > 18):\n",
    "            c = '#ff0000'\n",
    "        elif hasData and (float(pollution) < 10):\n",
    "            c = '#7CFC00'\n",
    "        else:\n",
    "            c = '#ffd27f'\n",
    "        folium.CircleMarker(\n",
    "            location=[joinDF[index][3], joinDF[index][4]],\n",
    "            radius=4,\n",
    "            popup=pollution,\n",
    "            color=c,\n",
    "            fill=True,\n",
    "            fill_color='#3186cc'\n",
    "        ).add_to(m)\n",
    "        index = index + 1\n",
    "    return m"
   ]
  },
  {
   "cell_type": "code",
   "execution_count": null,
   "metadata": {},
   "outputs": [],
   "source": []
  }
 ],
 "metadata": {
  "kernelspec": {
   "display_name": "Python 3",
   "language": "python",
   "name": "python3"
  },
  "language_info": {
   "codemirror_mode": {
    "name": "ipython",
    "version": 3
   },
   "file_extension": ".py",
   "mimetype": "text/x-python",
   "name": "python",
   "nbconvert_exporter": "python",
   "pygments_lexer": "ipython3",
   "version": "3.7.6"
  }
 },
 "nbformat": 4,
 "nbformat_minor": 4
}
