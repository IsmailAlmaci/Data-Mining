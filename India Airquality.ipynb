{
 "cells": [
  {
   "cell_type": "code",
   "execution_count": null,
   "metadata": {},
   "outputs": [],
   "source": [
    "import findspark\n",
    "import folium\n",
    "\n",
    "findspark.init()\n",
    "\n",
    "from pyspark import sql, SparkConf, SparkContext\n",
    "\n",
    "coordinates = (20.593684, 78.96288)\n",
    "conf = SparkConf().setAppName(\"Read_CSV\")\n",
    "sc = SparkContext(conf=conf)\n",
    "sqlContext = sql.SQLContext(sc)\n",
    "map = folium.Map(location=coordinates, zoom_start=5)\n",
    "\n",
    "dfSteden = sqlContext.read.csv(\"Steden.csv\")\n",
    "dfLucht = sqlContext.read.csv(\"Luchtvervuiling.csv\")\n"
   ]
  },
  {
   "cell_type": "code",
   "execution_count": null,
   "metadata": {},
   "outputs": [],
   "source": [
    "list = dfSteden.select(\"_c1\", \"_c2\").collect()\n",
    "listCities = dfSteden.select(\"_c0\").collect()\n",
    "index = 0\n",
    "\n",
    "for line in list:\n",
    "    if(index > 0):\n",
    "        folium.CircleMarker(\n",
    "            location=[list[index][0], list[index][1]],\n",
    "            radius=5,\n",
    "            popup=listCities[index][0],\n",
    "            color='#3186cc',\n",
    "            fill=True,\n",
    "            fill_color='#3186cc'\n",
    "        ).add_to(map)\n",
    "    index = index + 1\n",
    "    \n",
    "display(map)"
   ]
  }
 ],
 "metadata": {
  "kernelspec": {
   "display_name": "Python 3",
   "language": "python",
   "name": "python3"
  },
  "language_info": {
   "codemirror_mode": {
    "name": "ipython",
    "version": 3
   },
   "file_extension": ".py",
   "mimetype": "text/x-python",
   "name": "python",
   "nbconvert_exporter": "python",
   "pygments_lexer": "ipython3",
   "version": "3.7.6"
  }
 },
 "nbformat": 4,
 "nbformat_minor": 4
}
