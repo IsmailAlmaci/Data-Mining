{
 "cells": [
  {
   "cell_type": "code",
   "execution_count": 1,
   "metadata": {},
   "outputs": [],
   "source": [
    "import findspark\n",
    "import folium\n",
    "\n",
    "findspark.init()\n",
    "\n",
    "from pyspark import sql, SparkConf, SparkContext\n",
    "\n",
    "coordinates = (20.593684, 78.96288)\n",
    "conf = SparkConf().setAppName(\"Read_CSV\")\n",
    "sc = SparkContext(conf=conf)\n",
    "sqlContext = sql.SQLContext(sc)\n",
    "map = folium.Map(location=coordinates, zoom_start=5)\n",
    "\n",
    "dfSteden = sqlContext.read.csv(\"Steden.csv\", header=True)\n",
    "dfLucht = sqlContext.read.csv(\"Luchtvervuiling.csv\", header=True)"
   ]
  },
  {
   "cell_type": "code",
   "execution_count": null,
   "metadata": {},
   "outputs": [],
   "source": [
    "locations = dfSteden.select(\"lat\", \"lng\", \"city\")\n",
    "index = 0\n",
    "c = '#3186cc'\n",
    "new = dfLucht.join(locations, dfLucht.location == locations.city, how='left')\n",
    "new2 = new.filter(\"lat != ''\")\n",
    "joinDF = new2.filter(\"lng != ''\").collect()\n",
    "\n",
    "for line in joinDF:\n",
    "    if(joinDF[index][6] == 'NA' or not joinDF[index][6] is None  or (float(joinDF[index][6]) > 4)):\n",
    "        c = '#ff0000'\n",
    "    else:\n",
    "        c = '#3186cc'\n",
    "    folium.CircleMarker(\n",
    "        location=[joinDF[index][13], joinDF[index][14]],\n",
    "        radius=4,\n",
    "        popup=joinDF[index][15],\n",
    "        color=c,\n",
    "        fill=True,\n",
    "        fill_color='#3186cc'\n",
    "    ).add_to(map)\n",
    "    index = index + 1\n",
    "    \n",
    "display(map)"
   ]
  },
  {
   "cell_type": "code",
   "execution_count": null,
   "metadata": {},
   "outputs": [],
   "source": []
  }
 ],
 "metadata": {
  "kernelspec": {
   "display_name": "Python 3",
   "language": "python",
   "name": "python3"
  },
  "language_info": {
   "codemirror_mode": {
    "name": "ipython",
    "version": 3
   },
   "file_extension": ".py",
   "mimetype": "text/x-python",
   "name": "python",
   "nbconvert_exporter": "python",
   "pygments_lexer": "ipython3",
   "version": "3.7.6"
  }
 },
 "nbformat": 4,
 "nbformat_minor": 4
}
