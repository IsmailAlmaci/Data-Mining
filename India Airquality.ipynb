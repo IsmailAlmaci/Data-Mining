{
 "cells": [
  {
   "cell_type": "code",
   "execution_count": null,
   "metadata": {},
   "outputs": [],
   "source": [
    "import findspark\n",
    "import folium\n",
    "\n",
    "findspark.init()\n",
    "\n",
    "from pyspark import sql, SparkConf, SparkContext\n",
    "\n",
    "coordinates = (20.593684, 78.96288)\n",
    "conf = SparkConf().setAppName(\"Read_CSV\")\n",
    "sc = SparkContext(conf=conf)\n",
    "sqlContext = sql.SQLContext(sc)\n",
    "map = folium.Map(location=coordinates, zoom_start=5)\n",
    "\n",
    "dfSteden = sqlContext.read.csv(\"Steden.csv\", header=True)\n",
    "dfLucht = sqlContext.read.csv(\"Luchtvervuiling.csv\", header=True)"
   ]
  },
  {
   "cell_type": "code",
   "execution_count": null,
   "metadata": {},
   "outputs": [],
   "source": [
    "from folium.plugins import MarkerCluster\n",
    "\n",
    "locations = dfSteden.select(\"lat\", \"lng\", \"city\")\n",
    "pollution = dfLucht.select(\"location\", \"so2\", \"no2\")\n",
    "index = 0\n",
    "c = '#3186cc'\n",
    "new = pollution.join(locations, pollution.location == locations.city, how='right')\n",
    "new2 = new.filter(\"lat != ''\")\n",
    "joinDF = new2.filter(\"lng != ''\")\n",
    "joinDF = joinDF.dropDuplicates(['city']).collect()\n",
    "marker_cluster = MarkerCluster().add_to(map)\n",
    "\n",
    "for line in joinDF:\n",
    "    if (joinDF[index][1] != 'NA') and (joinDF[index][1] is not None) and (float(joinDF[index][1]) > 4):\n",
    "        c = '#ff0000'\n",
    "    else:\n",
    "        c = '#3186cc'\n",
    "    folium.CircleMarker(\n",
    "        location=[joinDF[index][3], joinDF[index][4]],\n",
    "        radius=4,\n",
    "        popup=joinDF[index][5],\n",
    "        color=c,\n",
    "        fill=True,\n",
    "        fill_color='#3186cc'\n",
    "    ).add_to(marker_cluster)\n",
    "    index = index + 1"
   ]
  },
  {
   "cell_type": "code",
   "execution_count": null,
   "metadata": {},
   "outputs": [],
   "source": [
    "map"
   ]
  },
  {
   "cell_type": "code",
   "execution_count": null,
   "metadata": {},
   "outputs": [],
   "source": []
  }
 ],
 "metadata": {
  "kernelspec": {
   "display_name": "Python 3",
   "language": "python",
   "name": "python3"
  },
  "language_info": {
   "codemirror_mode": {
    "name": "ipython",
    "version": 3
   },
   "file_extension": ".py",
   "mimetype": "text/x-python",
   "name": "python",
   "nbconvert_exporter": "python",
   "pygments_lexer": "ipython3",
   "version": "3.7.6"
  }
 },
 "nbformat": 4,
 "nbformat_minor": 4
}
