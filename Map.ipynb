{
 "cells": [
  {
   "cell_type": "code",
   "execution_count": null,
   "metadata": {},
   "outputs": [],
   "source": [
    "import findspark\n",
    "findspark.init()\n",
    "\n",
    "import folium\n",
    "\n",
    "from folium.plugins import MarkerCluster\n",
    "from pyspark import sql, SparkConf, SparkContext\n",
    "from ipywidgets import interact"
   ]
  },
  {
   "cell_type": "code",
   "execution_count": null,
   "metadata": {},
   "outputs": [],
   "source": [
    "conf = SparkConf().setAppName(\"Read_CSV\")\n",
    "sc = SparkContext(conf=conf)\n",
    "sqlContext = sql.SQLContext(sc)\n",
    "\n",
    "dfCities = sqlContext.read.csv(\"Steden.csv\", header=True)\n",
    "dfPollution = sqlContext.read.csv(\"Luchtvervuiling.csv\", header=True)\n",
    "\n",
    "coordinates = (20.593684, 78.96288)\n",
    "pMap = folium.Map(location=coordinates, zoom_start=4)"
   ]
  },
  {
   "cell_type": "code",
   "execution_count": null,
   "metadata": {},
   "outputs": [],
   "source": [
    "TYPES_P = [\"so2\", \"no2\", \"rspm\", \"spm\"]\n",
    "HIGH_P = [10, 18, 200, 300]\n",
    "LOW_P = [5, 10, 80, 200]"
   ]
  },
  {
   "cell_type": "code",
   "execution_count": null,
   "metadata": {},
   "outputs": [],
   "source": [
    "STRONG_BLUE = \"#3186cc\"\n",
    "RED = \"#ff0000\"\n",
    "GREEN = \"#7CFC00\"\n",
    "LIGHT_ORANGE = \"#ffd27f\""
   ]
  },
  {
   "cell_type": "code",
   "execution_count": null,
   "metadata": {},
   "outputs": [],
   "source": [
    "dfMapCities = dfCities.select(\"lat\", \"lng\", \"city\")\n",
    "dfMapPollution = dfPollution.select(\"location\", \"so2\", \"no2\", \"rspm\", \"spm\")\n",
    "colorPoint = STRONG_BLUE\n",
    "\n",
    "@interact(types=TYPES_P)\n",
    "def get_pollution(types):\n",
    "    index = 0\n",
    "    joinDF = dfMapPollution.join(dfMapCities, dfMapPollution.location == dfMapCities.city, how=\"right\")\n",
    "    if types == \"so2\":\n",
    "        joinDF = joinDF.filter(\"so2 != ''\").filter(\"so2 != 'NA'\").filter(\"lat != ''\")\\\n",
    "        .filter(\"lng != ''\").dropDuplicates([\"city\"]).collect()\n",
    "    elif types == \"no2\":\n",
    "        joinDF = joinDF.filter(\"no2 != ''\").filter(\"no2 != 'NA'\").filter(\"lat != ''\")\\\n",
    "        .filter(\"lng != ''\").dropDuplicates([\"city\"]).collect()\n",
    "    elif types == \"rspm\":\n",
    "        joinDF = joinDF.filter(\"rspm != ''\").filter(\"rspm != 'NA'\").filter(\"lat != ''\")\\\n",
    "        .filter(\"lng != ''\").dropDuplicates([\"city\"]).collect()\n",
    "    elif types == \"spm\":\n",
    "        joinDF = joinDF.filter(\"spm != ''\").filter(\"spm != 'NA'\").filter(\"lat != ''\")\\\n",
    "        .filter(\"lng != ''\").dropDuplicates([\"city\"]).collect()\n",
    "    \n",
    "    typeIndex = TYPES_P.index(types)\n",
    "    highPValue = HIGH_P[typeIndex]\n",
    "    lowPValue = LOW_P[typeIndex]\n",
    "    typeIndexOnJoinDF = typeIndex + 1\n",
    "    \n",
    "    for line in joinDF:\n",
    "        pollution = joinDF[index][typeIndexOnJoinDF]\n",
    "        if float(pollution) > highPValue:\n",
    "            colorPoint = RED\n",
    "        elif float(pollution) < lowPValue:\n",
    "            colorPoint = GREEN\n",
    "        else:\n",
    "            colorPoint = LIGHT_ORANGE\n",
    "\n",
    "        folium.CircleMarker(\n",
    "            location = [joinDF[index][5], joinDF[index][6]],\n",
    "            radius = 4,\n",
    "            popup = pollution,\n",
    "            color = colorPoint,\n",
    "            fill = True,\n",
    "            fill_color = STRONG_BLUE\n",
    "        ).add_to(pMap)\n",
    "        index = index + 1\n",
    "    return pMap"
   ]
  },
  {
   "cell_type": "code",
   "execution_count": null,
   "metadata": {},
   "outputs": [],
   "source": []
  }
 ],
 "metadata": {
  "kernelspec": {
   "display_name": "Python 3",
   "language": "python",
   "name": "python3"
  },
  "language_info": {
   "codemirror_mode": {
    "name": "ipython",
    "version": 3
   },
   "file_extension": ".py",
   "mimetype": "text/x-python",
   "name": "python",
   "nbconvert_exporter": "python",
   "pygments_lexer": "ipython3",
   "version": "3.6.9"
  }
 },
 "nbformat": 4,
 "nbformat_minor": 2
}
