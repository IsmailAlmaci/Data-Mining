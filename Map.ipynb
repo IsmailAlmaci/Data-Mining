{
 "cells": [
  {
   "cell_type": "code",
   "execution_count": 1,
   "metadata": {},
   "outputs": [],
   "source": [
    "import findspark\n",
    "findspark.init()\n",
    "\n",
    "import folium\n",
    "import branca\n",
    "\n",
    "from folium.plugins import MarkerCluster\n",
    "from pyspark import sql, SparkConf, SparkContext\n",
    "from pyspark.sql.functions import col\n",
    "from ipywidgets import interact"
   ]
  },
  {
   "cell_type": "code",
   "execution_count": 2,
   "metadata": {},
   "outputs": [],
   "source": [
    "conf = SparkConf().setAppName(\"Read_CSV\")\n",
    "sc = SparkContext(conf=conf)\n",
    "sql_context = sql.SQLContext(sc)\n",
    "\n",
    "df_cities = sql_context.read.csv(\"Steden.csv\", header=True)\n",
    "df_pollution = sql_context.read.csv(\"Luchtvervuiling.csv\", header=True)\n",
    "\n",
    "coordinates = (20.593684, 78.96288)\n",
    "pollution_map = folium.Map(location=coordinates, zoom_start=4)"
   ]
  },
  {
   "cell_type": "code",
   "execution_count": 3,
   "metadata": {},
   "outputs": [],
   "source": [
    "TYPES_P = [\"so2\", \"no2\", \"rspm\", \"spm\"]\n",
    "HIGH_P = [10, 18, 200, 300]\n",
    "LOW_P = [5, 10, 80, 200]"
   ]
  },
  {
   "cell_type": "code",
   "execution_count": 4,
   "metadata": {},
   "outputs": [],
   "source": [
    "STRONG_BLUE = \"#3186cc\"\n",
    "RED = \"#ff0000\"\n",
    "GREEN = \"#7CFC00\"\n",
    "LIGHT_ORANGE = \"#ffd27f\""
   ]
  },
  {
   "cell_type": "code",
   "execution_count": 7,
   "metadata": {},
   "outputs": [
    {
     "data": {
      "application/vnd.jupyter.widget-view+json": {
       "model_id": "a34fd8135ff3462888324461f5244cf7",
       "version_major": 2,
       "version_minor": 0
      },
      "text/plain": [
       "interactive(children=(Dropdown(description='types', options=('so2', 'no2', 'rspm', 'spm'), value='so2'), Outpu…"
      ]
     },
     "metadata": {},
     "output_type": "display_data"
    }
   ],
   "source": [
    "df_map_cities = df_cities.select(\"lat\", \"lng\", \"city\")\n",
    "df_map_pollution = df_pollution.select(\"location\", \"so2\", \"no2\", \"rspm\", \"spm\")\n",
    "color_point = STRONG_BLUE\n",
    "\n",
    "@interact(types=TYPES_P)\n",
    "def get_pollution(types):\n",
    "    index = 0\n",
    "    join_df = df_map_pollution.join(df_map_cities, df_map_pollution.location == df_map_cities.city, how=\"right\")\n",
    "    join_df = join_df.filter(col(types) != \"NA\").dropDuplicates([\"city\"]).collect()\n",
    "    \n",
    "    type_index = TYPES_P.index(types)\n",
    "    high_p_value = HIGH_P[type_index]\n",
    "    low_p_value = LOW_P[type_index]\n",
    "    type_index_on_join_df = type_index + 1\n",
    "    colormap = branca.colormap.linear.YlOrRd_09.scale(0, high_p_value)\n",
    "    colormap = colormap.to_step(index=[0, high_p_value/0.66, high_p_value/0.33, high_p_value])\n",
    "    colormap.caption = 'Pollution levels in India'\n",
    "    colormap.add_to(pollution_map)\n",
    "    \n",
    "    for line in join_df:\n",
    "        pollution = join_df[index][type_index_on_join_df]\n",
    "        if float(pollution) > high_p_value:\n",
    "            color_point = RED\n",
    "        elif float(pollution) < low_p_value:\n",
    "            color_point = GREEN\n",
    "        else:\n",
    "            color_point = LIGHT_ORANGE\n",
    "\n",
    "        folium.CircleMarker(\n",
    "            location = [join_df[index][5], join_df[index][6]],\n",
    "            radius = 4,\n",
    "            popup = pollution,\n",
    "            color = color_point,\n",
    "            fill = True,\n",
    "            fill_color = STRONG_BLUE\n",
    "        ).add_to(pollution_map)\n",
    "        index = index + 1\n",
    "    return pollution_map"
   ]
  },
  {
   "cell_type": "code",
   "execution_count": null,
   "metadata": {},
   "outputs": [],
   "source": []
  }
 ],
 "metadata": {
  "kernelspec": {
   "display_name": "Python 3",
   "language": "python",
   "name": "python3"
  },
  "language_info": {
   "codemirror_mode": {
    "name": "ipython",
    "version": 3
   },
   "file_extension": ".py",
   "mimetype": "text/x-python",
   "name": "python",
   "nbconvert_exporter": "python",
   "pygments_lexer": "ipython3",
   "version": "3.7.6"
  }
 },
 "nbformat": 4,
 "nbformat_minor": 2
}
