{
 "cells": [
  {
   "cell_type": "code",
   "execution_count": null,
   "metadata": {},
   "outputs": [],
   "source": [
    "import findspark\n",
    "findspark.init()\n",
    "\n",
    "import folium\n",
    "import branca\n",
    "\n",
    "from folium.plugins import MarkerCluster\n",
    "from pyspark import sql, SparkConf, SparkContext\n",
    "from pyspark.sql.functions import col\n",
    "from pyspark.sql.functions import max as sparkMax\n",
    "from ipywidgets import interact"
   ]
  },
  {
   "cell_type": "code",
   "execution_count": null,
   "metadata": {},
   "outputs": [],
   "source": [
    "conf = SparkConf().setAppName(\"Read_CSV\")\n",
    "sc = SparkContext(conf=conf)\n",
    "sql_context = sql.SQLContext(sc)\n",
    "\n",
    "df_cities = sql_context.read.csv(\"Steden.csv\", header=True)\n",
    "df_pollution = sql_context.read.csv(\"Luchtvervuiling.csv\", header=True)"
   ]
  },
  {
   "cell_type": "code",
   "execution_count": null,
   "metadata": {},
   "outputs": [],
   "source": [
    "TYPES_P = [\"so2\", \"no2\", \"rspm\", \"spm\"]\n",
    "#conentratie values voor pollutie types (HIGH_P en LOW_P) afkomstig van:\n",
    "#http://www.arthapedia.in/index.php?title=Ambient_Air_Quality_Standards_in_India\n",
    "HIGH_P = [80, 80, 60, 100]\n",
    "LOW_P = [50, 40, 40, 60]\n",
    "\n",
    "STRONG_BLUE = \"#3186cc\"\n",
    "GREEN = \"#7CFC00\"\n",
    "LIGHT_ORANGE = \"#ffd27f\"\n",
    "RED = \"#ff0000\""
   ]
  },
  {
   "cell_type": "code",
   "execution_count": null,
   "metadata": {},
   "outputs": [],
   "source": [
    "df_map_cities = df_cities.select(\"lat\", \"lng\", \"city\")\n",
    "df_map_pollution = df_pollution.select(\"location\", \"so2\", \"no2\", \"rspm\", \"spm\")\n",
    "color_point = STRONG_BLUE\n",
    "\n",
    "def get_max_pollution_value(type_p):\n",
    "    max_p_value = df_map_pollution.filter(col(type_p) != \"NA\")\n",
    "    max_p_value = max_p_value.agg(sparkMax(col(type_p)))\n",
    "    max_p_value = max_p_value.head()[0]\n",
    "    return float(max_p_value)\n",
    "\n",
    "@interact(types=TYPES_P)\n",
    "def get_pollution(types):\n",
    "    coordinates = (20.593684, 78.96288)\n",
    "    pollution_map = folium.Map(location=coordinates, zoom_start=4)\n",
    "    \n",
    "    index = 0\n",
    "    join_df = df_map_pollution.join(df_map_cities, df_map_pollution.location == df_map_cities.city, how=\"right\")\n",
    "    join_df = join_df.filter(col(types) != \"NA\").dropDuplicates([\"city\"]).collect()\n",
    "    \n",
    "    type_index = TYPES_P.index(types)\n",
    "    max_p_value = get_max_pollution_value(types)\n",
    "    #high_p_value = max_p_value * 0.75\n",
    "    #low_p_value = max_p_value * 0.25\n",
    "    high_p_value = HIGH_P[type_index]\n",
    "    low_p_value = LOW_P[type_index]\n",
    "    type_index_on_join_df = type_index + 1\n",
    "    \n",
    "    colormap = branca.colormap.StepColormap(\\\n",
    "                                            colors=[GREEN, LIGHT_ORANGE, RED],\\\n",
    "                                            vmin = 0,\\\n",
    "                                            vmax = max_p_value,\n",
    "                                            index = [0, low_p_value, high_p_value, max_p_value],\\\n",
    "                                            caption = \"Pollution levels in India for type \" + types)\n",
    "    colormap.add_to(pollution_map)\n",
    "    \n",
    "    for line in join_df:\n",
    "        pollution = join_df[index][type_index_on_join_df]\n",
    "        if float(pollution) > high_p_value:\n",
    "            color_point = RED\n",
    "        elif float(pollution) < low_p_value:\n",
    "            color_point = GREEN\n",
    "        else:\n",
    "            color_point = LIGHT_ORANGE\n",
    "\n",
    "        folium.CircleMarker(\n",
    "            location = [join_df[index][5], join_df[index][6]],\n",
    "            radius = 4,\n",
    "            popup = pollution,\n",
    "            color = color_point,\n",
    "            fill = True,\n",
    "            fill_color = STRONG_BLUE\n",
    "        ).add_to(pollution_map)\n",
    "        index = index + 1\n",
    "    return pollution_map"
   ]
  },
  {
   "cell_type": "code",
   "execution_count": null,
   "metadata": {},
   "outputs": [],
   "source": []
  }
 ],
 "metadata": {
  "kernelspec": {
   "display_name": "Python 3",
   "language": "python",
   "name": "python3"
  },
  "language_info": {
   "codemirror_mode": {
    "name": "ipython",
    "version": 3
   },
   "file_extension": ".py",
   "mimetype": "text/x-python",
   "name": "python",
   "nbconvert_exporter": "python",
   "pygments_lexer": "ipython3",
   "version": "3.6.9"
  }
 },
 "nbformat": 4,
 "nbformat_minor": 2
}
