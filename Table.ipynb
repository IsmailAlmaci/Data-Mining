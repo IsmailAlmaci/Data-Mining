{
 "cells": [
  {
   "cell_type": "code",
   "execution_count": null,
   "metadata": {},
   "outputs": [],
   "source": [
    "import findspark\n",
    "findspark.init()\n",
    "\n",
    "from pyspark import sql, SparkConf, SparkContext"
   ]
  },
  {
   "cell_type": "code",
   "execution_count": null,
   "metadata": {},
   "outputs": [],
   "source": [
    "#conf = SparkConf().setAppName(\"Read_CSV\")\n",
    "#sc = SparkContext(conf=conf)\n",
    "#sqlContext = sql.SQLContext(sc)\n",
    "#\n",
    "#dfPollution = sqlContext.read.csv(\"Luchtvervuiling.csv\", header=True)"
   ]
  },
  {
   "cell_type": "code",
   "execution_count": null,
   "metadata": {},
   "outputs": [],
   "source": [
    "from prettytable import PrettyTable\n",
    "import pyparsing as pp\n",
    "import datetime\n",
    "\n",
    "#Open de csv file\n",
    "pollution = open(\"Luchtvervuiling.csv\", 'r')\n",
    "\n",
    "#Lees de csv file\n",
    "pollution = pollution.readlines()\n",
    "\n",
    "#Data opsplitsen op komma, zonder komma's in quotes te verwijderen\n",
    "def splitDataOnComma(str):\n",
    "    splitStr = pp.commaSeparatedList.copy().addParseAction(pp.tokenMap(lambda s: s.strip('\"')))\n",
    "    splitStr = splitStr.parseString(str).asList()\n",
    "    return splitStr\n",
    "\n",
    "#Headers opsplitsen\n",
    "headersStr = pollution[0]\n",
    "headers = splitDataOnComma(headersStr)\n",
    "\n",
    "#Headers voor tabel\n",
    "tableHeaders = PrettyTable([headers[12], headers[2], headers[3], headers[5], headers[6], headers[7], headers[8], headers[9]])\n",
    "\n",
    "# Data toevoegen aan tabel\n",
    "for i in range(1, 1000) :\n",
    "    row = splitDataOnComma(pollution[i])\n",
    "    tableHeaders.add_row([row[12], row[2], row[3], row[5], row[6], row[7], row[8], row[9]])\n",
    "\n",
    "print(tableHeaders)"
   ]
  },
  {
   "cell_type": "code",
   "execution_count": null,
   "metadata": {},
   "outputs": [],
   "source": [
    "#0 stn_code\n",
    "#1 sampling_date\n",
    "#2 state\n",
    "#3 location\n",
    "#4 agency\n",
    "#5 type\n",
    "#6 so2\n",
    "#7 no2\n",
    "#8 rspm\n",
    "#9 spm\n",
    "#10 location_monitoring_station\n",
    "#11 pm2_5\n",
    "#12 date\n",
    "#---------------------------------------------------------\n",
    "#jaar            |12 Date\n",
    "#maand           |12 Date\n",
    "#Staat           |2 state\n",
    "#Stad            |3 location\n",
    "#Type van gebied |5 type\n",
    "#SO² (µg/m³)     |6 SO2\n",
    "#NO² (µg/m³)     |7 NO2\n",
    "#RSPM (µg/m³)    |8 RSPM\n",
    "#SPM (µg/m³)     |9 SPM"
   ]
  }
 ],
 "metadata": {
  "kernelspec": {
   "display_name": "Python 3",
   "language": "python",
   "name": "python3"
  },
  "language_info": {
   "codemirror_mode": {
    "name": "ipython",
    "version": 3
   },
   "file_extension": ".py",
   "mimetype": "text/x-python",
   "name": "python",
   "nbconvert_exporter": "python",
   "pygments_lexer": "ipython3",
   "version": "3.6.9"
  }
 },
 "nbformat": 4,
 "nbformat_minor": 2
}
